{
 "cells": [
  {
   "cell_type": "code",
   "execution_count": 141,
   "metadata": {},
   "outputs": [],
   "source": [
    "from time import time\n",
    "import numpy as np\n",
    "import json\n",
    "from sklearn import (manifold, datasets, decomposition, ensemble,\n",
    "                     discriminant_analysis, random_projection)\n",
    "import skimage.io, skimage.transform\n",
    "\n",
    "\n",
    "data_path = './extraction/data/'\n",
    "tfidf_path = './tfidf.json'\n",
    "meta_path = './meta_tfidf.json'\n",
    "meta = json.load(open(meta_path, 'r'))\n",
    "good_id_to_filename = meta['ids']\n",
    "i_to_id = meta['itoid']\n",
    "thumbnail_ext = \".jpg\"\n",
    "\n",
    "X = D = np.array(json.load(open(tfidf_path, 'r'))['D'])#[:500,:500]\n",
    "names = np.asarray([good_id_to_filename[i_to_id[str(i)]] for i in range(len(D))])\n",
    "np.savetxt(\"D.csv\", D, delimiter=\",\")\n",
    "np.savetxt(\"labels.csv\", names, fmt=\"%s\", delimiter=\",\",encoding='utf-8')"
   ]
  },
  {
   "cell_type": "code",
   "execution_count": 142,
   "metadata": {},
   "outputs": [],
   "source": [
    "def get_thumbnails():\n",
    "    for i in range(len(X)):\n",
    "        filename = data_path+good_id_to_filename[i_to_id[str(i)]]+thumbnail_ext\n",
    "        image = skimage.io.imread(filename)\n",
    "        image = skimage.transform.resize(image, (16, 16))\n",
    "        yield image"
   ]
  },
  {
   "cell_type": "code",
   "execution_count": null,
   "metadata": {},
   "outputs": [
    {
     "name": "stdout",
     "output_type": "stream",
     "text": [
      "Computing t-SNE embedding\n"
     ]
    }
   ],
   "source": [
    "#----------------------------------------------------------------------\n",
    "# t-SNE embedding of the digits dataset\n",
    "print(\"Computing t-SNE embedding\")\n",
    "tsne = manifold.TSNE(n_components=2, random_state=0, learning_rate=20, perplexity=40, metric=\"precomputed\", n_iter=100000)\n",
    "t0 = time()\n",
    "X_tsne = tsne.fit_transform(X)"
   ]
  },
  {
   "cell_type": "code",
   "execution_count": null,
   "metadata": {},
   "outputs": [],
   "source": [
    "thumbnail_iter = get_thumbnails()"
   ]
  },
  {
   "cell_type": "code",
   "execution_count": null,
   "metadata": {},
   "outputs": [],
   "source": [
    "X_tsne.shape"
   ]
  },
  {
   "cell_type": "code",
   "execution_count": null,
   "metadata": {},
   "outputs": [],
   "source": [
    "import random\n",
    "import numpy as np\n",
    "import pandas as pd\n",
    "from plotly.offline import download_plotlyjs, init_notebook_mode, plot, iplot\n",
    "import plotly.graph_objs as go\n",
    "\n",
    "init_notebook_mode(connected=True)\n",
    "\n",
    "trace0=go.Scatter(\n",
    "    x=X_tsne[:,0],\n",
    "    y=X_tsne[:,1],\n",
    "    mode='markers',\n",
    "    marker= dict(size= 14,\n",
    "                line= dict(width=1),\n",
    "                opacity= 0.3\n",
    "               ),\n",
    "    #name=y[i],\n",
    "    text=names) # The hover text goes here... \n",
    "\n",
    "layout=go.Layout(\n",
    "    title= 't-SNE',\n",
    "    hovermode='closest',\n",
    "    #xaxis=dict(\n",
    "    #    title= 'Pop',\n",
    "    #    ticklen= 5,\n",
    "    #    zeroline= False,\n",
    "    #    gridwidth= 2,\n",
    "    #),\n",
    "    #yaxis=dict(\n",
    "    #    title= 'Rank',\n",
    "    #    ticklen= 5,\n",
    "    #    gridwidth= 2,\n",
    "    #),\n",
    "    showlegend= False\n",
    ")\n",
    "fig = go.Figure(data=[trace0], layout=layout)\n",
    "iplot(fig)"
   ]
  },
  {
   "cell_type": "code",
   "execution_count": 89,
   "metadata": {},
   "outputs": [
    {
     "data": {
      "text/html": [
       "<script>requirejs.config({paths: { 'plotly': ['https://cdn.plot.ly/plotly-latest.min']},});if(!window.Plotly) {{require(['plotly'],function(plotly) {window.Plotly=plotly;});}}</script>"
      ],
      "text/vnd.plotly.v1+html": [
       "<script>requirejs.config({paths: { 'plotly': ['https://cdn.plot.ly/plotly-latest.min']},});if(!window.Plotly) {{require(['plotly'],function(plotly) {window.Plotly=plotly;});}}</script>"
      ]
     },
     "metadata": {},
     "output_type": "display_data"
    }
   ],
   "source": []
  },
  {
   "cell_type": "code",
   "execution_count": null,
   "metadata": {},
   "outputs": [],
   "source": []
  },
  {
   "cell_type": "code",
   "execution_count": null,
   "metadata": {},
   "outputs": [],
   "source": []
  },
  {
   "cell_type": "code",
   "execution_count": null,
   "metadata": {},
   "outputs": [],
   "source": []
  },
  {
   "cell_type": "code",
   "execution_count": null,
   "metadata": {},
   "outputs": [],
   "source": [
    "##----------------------------------------------------------------------\n",
    "## Scale and visualize the embedding vectors\n",
    "#def plot_embedding(X, title=None):\n",
    "#    x_min, x_max = np.min(X, 0), np.max(X, 0)\n",
    "#    #X = (X - x_min) / (x_max - x_min)\n",
    "#\n",
    "#    plt.figure(figsize=[12.8, 9.6])\n",
    "#    ax = plt.subplot(111)\n",
    "#    for i in range(X.shape[0]):\n",
    "#        plt.plot(X[i, 0], X[i, 1])\n",
    "#        plt.text(X[i, 0], X[i, 1], names[i])\n",
    "#\n",
    "#    if hasattr(offsetbox, 'AnnotationBbox'):\n",
    "#        # only print thumbnails with matplotlib > 1.0\n",
    "#        shown_images = np.array([[1., 1.]])  # just something big\n",
    "#        for i in range(X.shape[0]):\n",
    "#            dist = np.sum((X[i] - shown_images) ** 2, 1)\n",
    "#            #if np.min(dist) < 4e-3:\n",
    "#            #    # don't show points that are too close\n",
    "#            #    continue\n",
    "#            shown_images = np.r_[shown_images, [X[i]]]\n",
    "#            imagebox = offsetbox.AnnotationBbox(\n",
    "#                offsetbox.OffsetImage(next(thumbnail_iter), zoom=1),\n",
    "#                X[i])\n",
    "#            ax.add_artist(imagebox)\n",
    "#    plt.xticks([]), plt.yticks([])\n",
    "#    if title is not None:\n",
    "#        plt.title(title)"
   ]
  }
 ],
 "metadata": {
  "hide_input": false,
  "kernelspec": {
   "display_name": "Python 3",
   "language": "python",
   "name": "python3"
  },
  "language_info": {
   "codemirror_mode": {
    "name": "ipython",
    "version": 3
   },
   "file_extension": ".py",
   "mimetype": "text/x-python",
   "name": "python",
   "nbconvert_exporter": "python",
   "pygments_lexer": "ipython3",
   "version": "3.5.2"
  }
 },
 "nbformat": 4,
 "nbformat_minor": 2
}
