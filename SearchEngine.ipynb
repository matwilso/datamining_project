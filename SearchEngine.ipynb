{
 "cells": [
  {
   "cell_type": "code",
   "execution_count": 39,
   "metadata": {},
   "outputs": [],
   "source": [
    "import json\n",
    "import collections as coll\n",
    "\n",
    "def read_file(fname):\n",
    "    try:\n",
    "        with open(fname, 'r', encoding='utf8') as f:\n",
    "            return f.read()\n",
    "    except:\n",
    "        return None\n",
    "\n",
    "id_to_filename = json.load(open('./extraction/id_to_filename.json', 'r', encoding='utf8'))\n",
    "raw_texts = [text.split() for text in [read_file(f'./extraction/{name}.txt') for name in id_to_filename.values()] if text]"
   ]
  },
  {
   "cell_type": "code",
   "execution_count": 40,
   "metadata": {},
   "outputs": [],
   "source": [
    "from itertools import chain\n",
    "def clump_items(it, csize):\n",
    "    buff = []\n",
    "    for ele in it:\n",
    "        buff.append(ele)\n",
    "        if len(buff) >= csize:\n",
    "            yield buff\n",
    "            buff = []\n",
    "    if len(buff) != 0:\n",
    "        yield buff\n",
    "\n",
    "def jaccard_search(query, isize=100):\n",
    "    clusters = [[set(inner) for inner in clump_items(text, isize)] for text in raw_texts]\n",
    "    clusters = chain.from_iterable(clusters)\n",
    "    new_query = set(query.split())\n",
    "    def js(cluster):\n",
    "        isize = len(new_query & cluster)\n",
    "        usize = len(new_query | cluster)\n",
    "        return isize / usize\n",
    "    return max(clusters, key=js)"
   ]
  },
  {
   "cell_type": "code",
   "execution_count": 44,
   "metadata": {},
   "outputs": [
    {
     "data": {
      "text/plain": [
       "\"parsing word but Jaccard which each other didn't grams this similar you guys can out these more de right could compute see are it might specify documents include to have coding or turn work I some figure choice would messy character kick punctuation okay do modeling then similarity white like feel bet ones the lecture ramming sets space all and a how seems\""
      ]
     },
     "execution_count": 44,
     "metadata": {},
     "output_type": "execute_result"
    }
   ],
   "source": [
    "' '.join(jaccard_search('similarity compute'))"
   ]
  },
  {
   "cell_type": "code",
   "execution_count": null,
   "metadata": {
    "collapsed": true
   },
   "outputs": [],
   "source": []
  }
 ],
 "metadata": {
  "kernelspec": {
   "display_name": "Python 3",
   "language": "python",
   "name": "python3"
  },
  "language_info": {
   "codemirror_mode": {
    "name": "ipython",
    "version": 3
   },
   "file_extension": ".py",
   "mimetype": "text/x-python",
   "name": "python",
   "nbconvert_exporter": "python",
   "pygments_lexer": "ipython3",
   "version": "3.6.3"
  }
 },
 "nbformat": 4,
 "nbformat_minor": 2
}
