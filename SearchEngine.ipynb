{
 "cells": [
  {
   "cell_type": "code",
   "execution_count": 17,
   "metadata": {},
   "outputs": [],
   "source": [
    "import json\n",
    "import collections as coll\n",
    "\n",
    "def read_file(fname):\n",
    "    try:\n",
    "        with open(fname, 'r', encoding='utf8') as f:\n",
    "            return f.read()\n",
    "    except:\n",
    "        return None\n",
    "\n",
    "id_to_filename = json.load(open('./extraction/id_to_filename.json', 'r', encoding='utf8'))\n",
    "raw_texts = [text.split() for text in [read_file(f'./extraction/{name}.txt') for name in id_to_filename.values()] if text]"
   ]
  },
  {
   "cell_type": "code",
   "execution_count": 20,
   "metadata": {},
   "outputs": [
    {
     "data": {
      "text/plain": [
       "19484"
      ]
     },
     "execution_count": 20,
     "metadata": {},
     "output_type": "execute_result"
    }
   ],
   "source": [
    "big_text = max(raw_texts, key=len)\n",
    "len(big_text)"
   ]
  },
  {
   "cell_type": "code",
   "execution_count": 25,
   "metadata": {},
   "outputs": [],
   "source": [
    "def clump_items(it, csize):\n",
    "    buff = []\n",
    "    for ele in it:\n",
    "        buff.append(ele)\n",
    "        if len(buff) >= csize:\n",
    "            yield buff\n",
    "            buff = []\n",
    "    if len(buff) != 0:\n",
    "        yield buff\n",
    "\n",
    "def jaccard_search(query, isize=200):\n",
    "    clusters = [set(text) for text in clump_items(big_text, isize)]\n",
    "    new_query = set(query.split())\n",
    "    def js(cluster):\n",
    "        isize = len(new_query & cluster)\n",
    "        usize = len(new_query | cluster)\n",
    "        return isize / usize\n",
    "    return max(clusters, key=js)"
   ]
  },
  {
   "cell_type": "code",
   "execution_count": 26,
   "metadata": {},
   "outputs": [
    {
     "data": {
      "text/plain": [
       "'We live in a wondrous time Where incidents that undermine the stability of our world continue to occur permanently From suicide bombings, waves of immigrants, Donald Trump, Vladimir Putin, and even Breakest However, it appears that the occupiers are unable to deal with these incidents One has no vision of a different or better future This film tells you the story of our arrival in this strange era Tell you how it has been over the last 40 years Rather than face the complex reality of the world, politicians, economists and technocrats preferred to withdraw Instead of confrontation, they designed a simpler version of the world that would enable them to cling to power With the growth of this false world, we all integrated into it because its simplicity assured us And even those who thought they were attacking the regime, which is based on radicals, artists and musicians Anyone who represents our counter-culture has, in time, become part of the trick Because they also withdrew to the false world, making their opposition ineffectual and yielding no change But this withdrawal into the realm of dreams has given way to the forces of destruction and darkness to grow and thrive The forces that have matured now and have come back to violate the surface of our fragile and well-developed world ...In dreams\" \"Revived ... {\\\\ an8} <font color = \"# ff0000\"> Hyper normalization </ font> Our story begins from two different cities but one time in 1975 {\\\\ an8} <font color = \"# ff0000\"> 1975 </ font> One is New York And Damascus It is the period in which there emerged two dominant ideas for managing the world without politics In 1975, New York City was on the verge of collapse Where politicians who managed it for 30 years have been borrowing banks to meet growth and welfare requirements But in the early 1970s, the middle class abandoned the city, and with them the taxes they paid Which led to increased borrowing of the city from banks But banks have begun to worry about the size of the city\\'s growing debt and whether it can meet it , Then one day in 1975 stopped banks lending The City Council held a regular meeting to issue debt securities against loans under the chairmanship of the financial head of the city Good morning, ladies and gentlemen Today, through competitive bidding, New York City offers a debt bond with an expected tax collection of $ 260 million Of which 100 million will be due on June 3, 1975 The banks were supposed to announce their decision at 11 am, but soon none of them appeared Another date for the meeting was set at 2 pm, when banks were promised to appear {\\\\ an8} <font color = \"# ff0000\"> 2.45 pm </ font> , Announced on behalf of the CFO that the offer Which we expected to receive and announce at 2 pm, was postponed until after noon We expect to receive it at 4 pm Does not that mean, Paul, that banks do not want to buy these bonds yet? We will issue a later comment at 4 o\\'clock Any other statements now would not be in favor of the ongoing sale Does this mean that you failed to sell them today? We will have another comment at 4 pm What happened that day marked a radical change in the balance of power The banks insisted that there was no way to guarantee the recovery of the loans owed to them only by allowing them to take over the reins of the city administration The city sought help from the president, whose appeal was rejected Thus, a new committee was established to manage the finances of the city Of the nine members of the Commission, eight were bankers This marked the beginning of an extraordinary experience in which financial institutions robbed politicians of power To start managing the community itself The city had no other choice Bankers imposed what is known as austerity \"on the city\" With the insistence on laying off thousands of teachers, policemen and firefighters from their jobs It was a new kind of policy Ancient politicians believed in solving crises through negotiations and agreements But the bankers had a very different vision Where they were the embodiment of forces, do not allow to negotiate with them Namely the forces and logic of the market For them, they had no alternative to this system The need for their management of society Through a jar of a pen, these cunning can earn from sixty to sixty-five million in one deal And such a sum would have been able to solve the problems of all those who have been dismissed from their jobs, so it is ruthless, brutal and shameful {\\\\ an8} <font color = \"# ff0000\"> Victor Gottbaum is the local leader of the workers </ font> But many bankers may argue that trade unions are more greedy How will your response be? I\\'ll tell you right, if you can, win sixty million in one deal Compared to the 8,000 or nine thousand the worker earns in a year, I think they are right I wish them good luck on their return to their humble property in Greenwich and Connecticut, these excuses But the strange thing is that no one opposed these bankers , Where radicals and leftists who had dreamed ten years earlier did not , By changing America through the revolution did little But withdrew, to live in the abandoned homes of Manhattan The singer Patty Smith later said: Explaining the disappointment that has befallen them I can no longer feel \"by belonging to any political movement Those crazy movements, which filled the streets When I tried to join any of them, I felt \"a bit of a new bureaucracy but of another kind Her words were an expression of the emergence of a new strong individualism that did not fit into the idea of \\u200b\\u200bcollective political action But'"
      ]
     },
     "execution_count": 26,
     "metadata": {},
     "output_type": "execute_result"
    }
   ],
   "source": [
    "' '.join(big_text[:1000])"
   ]
  },
  {
   "cell_type": "code",
   "execution_count": 29,
   "metadata": {},
   "outputs": [
    {
     "data": {
      "text/plain": [
       "'one but verge growing matured Our world of head period chairmanship violate taxes worry gentlemen back Hyper One , securities font> It come ... Today, New city\\'s the managed through and surface about that color which emerged city different was normalization \"Revived forces they 1975, in Which borrowing bidding, growth requirements Damascus who issue And welfare now abandoned debt is a loans led increased well-developed paid meeting But day regular can ideas In begun them meet 30 it ladies early class have city, stopped 1970s, been years for an8} collapse politics Good The with banks under {\\\\ morning, Then York there our City politicians held from Council Where size lending financial cities middle = without dominant </ managing to \"# time ...In whether story competitive fragile <font against ff0000\"> begins dreams\" two 1975 on'"
      ]
     },
     "execution_count": 29,
     "metadata": {},
     "output_type": "execute_result"
    }
   ],
   "source": [
    "' '.join(jaccard_search('Hyper normalization'))"
   ]
  },
  {
   "cell_type": "code",
   "execution_count": null,
   "metadata": {
    "collapsed": true
   },
   "outputs": [],
   "source": []
  }
 ],
 "metadata": {
  "kernelspec": {
   "display_name": "Python 3",
   "language": "python",
   "name": "python3"
  },
  "language_info": {
   "codemirror_mode": {
    "name": "ipython",
    "version": 3
   },
   "file_extension": ".py",
   "mimetype": "text/x-python",
   "name": "python",
   "nbconvert_exporter": "python",
   "pygments_lexer": "ipython3",
   "version": "3.6.3"
  }
 },
 "nbformat": 4,
 "nbformat_minor": 2
}
